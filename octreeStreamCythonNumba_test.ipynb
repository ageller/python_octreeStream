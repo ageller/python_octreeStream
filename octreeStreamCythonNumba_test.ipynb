{
 "cells": [
  {
   "cell_type": "markdown",
   "id": "449fa7ee",
   "metadata": {},
   "source": [
    "# Testing with cython and numba versions"
   ]
  },
  {
   "cell_type": "code",
   "execution_count": null,
   "id": "0e3db4d7",
   "metadata": {},
   "outputs": [],
   "source": [
    "%load_ext autoreload\n",
    "%autoreload 2\n",
    "\n",
    "from octreeStreamOrg import octreeStream"
   ]
  },
  {
   "cell_type": "code",
   "execution_count": null,
   "id": "2eea0d3f",
   "metadata": {},
   "outputs": [],
   "source": [
    "import datetime"
   ]
  },
  {
   "cell_type": "code",
   "execution_count": null,
   "id": "2408e557",
   "metadata": {},
   "outputs": [],
   "source": [
    "o = octreeStream('/Users/ageller/VISUALIZATIONS/FIREdata/m12i_res7100/snapdir_600/snapshot_600.0.hdf5', \n",
    "                 h5PartKey = 'PartType0', keyList = ['Coordinates', 'Density', 'Velocities'],\n",
    "                 NNodeMax = 10000, NMemoryMax = 5e4, Nmax=1e5, verbose=1, minWidth=1e-4,\n",
    "                 path='/Users/ageller/VISUALIZATIONS/octree_threejs_python/WebGL_octreePartition/src/data/junk/octreeNodes/Gas')"
   ]
  },
  {
   "cell_type": "code",
   "execution_count": null,
   "id": "b7d48610",
   "metadata": {},
   "outputs": [],
   "source": [
    "begin_time = datetime.datetime.now()\n",
    "o.compileOctree()\n",
    "end_time = datetime.datetime.now()"
   ]
  },
  {
   "cell_type": "code",
   "execution_count": null,
   "id": "fd246acc",
   "metadata": {},
   "outputs": [],
   "source": [
    "print('normal execution time : ',end_time - begin_time)"
   ]
  },
  {
   "cell_type": "markdown",
   "id": "da0c22c4",
   "metadata": {},
   "source": [
    "## Test writing files without pandas\n",
    "\n",
    "*This is offering a speed up.  I will use this version as the default for now.*"
   ]
  },
  {
   "cell_type": "code",
   "execution_count": null,
   "id": "9b83d7ff",
   "metadata": {},
   "outputs": [],
   "source": [
    "import sys\n",
    "sys.path.insert(1, '/Users/ageller/VISUALIZATIONS/octree_threejs_python/python_octreeStream/noPandasTest/')"
   ]
  },
  {
   "cell_type": "code",
   "execution_count": null,
   "id": "b0d1ed6b",
   "metadata": {},
   "outputs": [],
   "source": [
    "%load_ext autoreload\n",
    "%autoreload 2\n",
    "from octreeStreamNoPandas import octreeStream as octreeStreamNoPandas"
   ]
  },
  {
   "cell_type": "code",
   "execution_count": null,
   "id": "be74ad1c",
   "metadata": {},
   "outputs": [],
   "source": [
    "oP1 = octreeStreamNoPandas('/Users/ageller/VISUALIZATIONS/FIREdata/m12i_res7100/snapdir_600/snapshot_600.0.hdf5', \n",
    "                 h5PartKey = 'PartType0', keyList = ['Coordinates', 'Density', 'Velocities'],\n",
    "                 NNodeMax = 10000, NMemoryMax = 5e4, Nmax=1e5, verbose=1, minWidth=1e-4,\n",
    "                 cleanDir = True,\n",
    "                 path='/Users/ageller/VISUALIZATIONS/octree_threejs_python/WebGL_octreePartition/src/data/junk/octreeNodes/Gas')"
   ]
  },
  {
   "cell_type": "code",
   "execution_count": null,
   "id": "1d4a0a1e",
   "metadata": {},
   "outputs": [],
   "source": [
    "begin_timeP1 = datetime.datetime.now()\n",
    "oP1.compileOctree()\n",
    "end_timeP1 = datetime.datetime.now()"
   ]
  },
  {
   "cell_type": "code",
   "execution_count": null,
   "id": "7308fb53",
   "metadata": {},
   "outputs": [],
   "source": [
    "print('no pandas execution time : ',end_timeP1 - begin_timeP1)"
   ]
  },
  {
   "cell_type": "markdown",
   "id": "7f988652",
   "metadata": {},
   "source": [
    "## Try with multiprocessing\n",
    "\n",
    "*Starting from the no pandas version.*"
   ]
  },
  {
   "cell_type": "code",
   "execution_count": 1,
   "id": "dcab6432",
   "metadata": {},
   "outputs": [],
   "source": [
    "import sys\n",
    "import datetime\n",
    "sys.path.insert(1, '/Users/ageller/VISUALIZATIONS/octree_threejs_python/python_octreeStream/multiprocessingTest/')"
   ]
  },
  {
   "cell_type": "code",
   "execution_count": 2,
   "id": "181ae0f8",
   "metadata": {},
   "outputs": [],
   "source": [
    "%load_ext autoreload\n",
    "%autoreload 2\n",
    "from octreeStreamMultiprocessing import octreeStream as octreeStreamMultiprocessing"
   ]
  },
  {
   "cell_type": "code",
   "execution_count": 3,
   "id": "2c358a36",
   "metadata": {},
   "outputs": [
    {
     "name": "stdout",
     "output_type": "stream",
     "text": [
      "files will be output to: C:\\Users\\ageller\\VISUALIZATIONS\\octree_threejs_python\\WebGL_octreePartition\\src\\data\\junk\\octreeNodes\\Gas\n"
     ]
    }
   ],
   "source": [
    "oM1 = octreeStreamMultiprocessing('/Users/ageller/VISUALIZATIONS/FIREdata/m12i_res7100/snapdir_600/snapshot_600.0.hdf5', \n",
    "                 h5PartKey = 'PartType0', keyList = ['Coordinates', 'Density', 'Velocities'],\n",
    "                 NNodeMax = 10000, NMemoryMax = 5e4, Nmax=1e5, verbose=1, minWidth=1e-4,\n",
    "                 cleanDir = True,\n",
    "                 path='/Users/ageller/VISUALIZATIONS/octree_threejs_python/WebGL_octreePartition/src/data/junk/octreeNodes/Gas')"
   ]
  },
  {
   "cell_type": "code",
   "execution_count": 4,
   "id": "2560ced3",
   "metadata": {
    "scrolled": false
   },
   "outputs": [
    {
     "name": "stdout",
     "output_type": "stream",
     "text": [
      "calculating center and size ... \n",
      "have initial center and size [29367.70125147 31128.80508096 32527.27650095] 21399.278670719665\n",
      "0 50000 0\n",
      "starting jobs 1\n",
      "joining jobs\n",
      "50001 100000 50000\n",
      "starting jobs 1\n",
      "joining jobs\n",
      "dumping nodes to files ...\n"
     ]
    },
    {
     "ename": "TypeError",
     "evalue": "string indices must be integers",
     "output_type": "error",
     "traceback": [
      "\u001b[1;31m---------------------------------------------------------------------------\u001b[0m",
      "\u001b[1;31mTypeError\u001b[0m                                 Traceback (most recent call last)",
      "\u001b[1;32m~\\AppData\\Local\\Temp/ipykernel_31284/3025528607.py\u001b[0m in \u001b[0;36m<module>\u001b[1;34m\u001b[0m\n\u001b[0;32m      1\u001b[0m \u001b[0mbegin_timeM1\u001b[0m \u001b[1;33m=\u001b[0m \u001b[0mdatetime\u001b[0m\u001b[1;33m.\u001b[0m\u001b[0mdatetime\u001b[0m\u001b[1;33m.\u001b[0m\u001b[0mnow\u001b[0m\u001b[1;33m(\u001b[0m\u001b[1;33m)\u001b[0m\u001b[1;33m\u001b[0m\u001b[1;33m\u001b[0m\u001b[0m\n\u001b[1;32m----> 2\u001b[1;33m \u001b[0moM1\u001b[0m\u001b[1;33m.\u001b[0m\u001b[0mcompileOctree\u001b[0m\u001b[1;33m(\u001b[0m\u001b[1;33m)\u001b[0m\u001b[1;33m\u001b[0m\u001b[1;33m\u001b[0m\u001b[0m\n\u001b[0m\u001b[0;32m      3\u001b[0m \u001b[0mend_timeM1\u001b[0m \u001b[1;33m=\u001b[0m \u001b[0mdatetime\u001b[0m\u001b[1;33m.\u001b[0m\u001b[0mdatetime\u001b[0m\u001b[1;33m.\u001b[0m\u001b[0mnow\u001b[0m\u001b[1;33m(\u001b[0m\u001b[1;33m)\u001b[0m\u001b[1;33m\u001b[0m\u001b[1;33m\u001b[0m\u001b[0m\n",
      "\u001b[1;32mC:\\Users/ageller/VISUALIZATIONS/octree_threejs_python/python_octreeStream/multiprocessingTest\\octreeStreamMultiprocessing.py\u001b[0m in \u001b[0;36mcompileOctree\u001b[1;34m(self, inputFile, append)\u001b[0m\n\u001b[0;32m    540\u001b[0m                 \u001b[0mfile\u001b[0m\u001b[1;33m.\u001b[0m\u001b[0mclose\u001b[0m\u001b[1;33m(\u001b[0m\u001b[1;33m)\u001b[0m\u001b[1;33m\u001b[0m\u001b[1;33m\u001b[0m\u001b[0m\n\u001b[0;32m    541\u001b[0m \u001b[1;33m\u001b[0m\u001b[0m\n\u001b[1;32m--> 542\u001b[1;33m                 \u001b[0mself\u001b[0m\u001b[1;33m.\u001b[0m\u001b[0mdumpNodesToFiles\u001b[0m\u001b[1;33m(\u001b[0m\u001b[1;33m)\u001b[0m\u001b[1;33m\u001b[0m\u001b[1;33m\u001b[0m\u001b[0m\n\u001b[0m\u001b[0;32m    543\u001b[0m                 \u001b[0mself\u001b[0m\u001b[1;33m.\u001b[0m\u001b[0mshuffleAllParticlesInFiles\u001b[0m\u001b[1;33m(\u001b[0m\u001b[1;33m)\u001b[0m\u001b[1;33m\u001b[0m\u001b[1;33m\u001b[0m\u001b[0m\n\u001b[0;32m    544\u001b[0m \u001b[1;33m\u001b[0m\u001b[0m\n",
      "\u001b[1;32mC:\\Users/ageller/VISUALIZATIONS/octree_threejs_python/python_octreeStream/multiprocessingTest\\octreeStreamMultiprocessing.py\u001b[0m in \u001b[0;36mdumpNodesToFiles\u001b[1;34m(self)\u001b[0m\n\u001b[0;32m    211\u001b[0m                 \u001b[1;31m#individual nodes\u001b[0m\u001b[1;33m\u001b[0m\u001b[1;33m\u001b[0m\u001b[0m\n\u001b[0;32m    212\u001b[0m                 \u001b[1;32mfor\u001b[0m \u001b[0mnode\u001b[0m \u001b[1;32min\u001b[0m \u001b[0mself\u001b[0m\u001b[1;33m.\u001b[0m\u001b[0mmanager\u001b[0m\u001b[1;33m[\u001b[0m\u001b[1;34m'nodes'\u001b[0m\u001b[1;33m]\u001b[0m\u001b[1;33m:\u001b[0m\u001b[1;33m\u001b[0m\u001b[1;33m\u001b[0m\u001b[0m\n\u001b[1;32m--> 213\u001b[1;33m                         \u001b[1;32mif\u001b[0m \u001b[1;33m(\u001b[0m \u001b[1;33m(\u001b[0m\u001b[0mnode\u001b[0m\u001b[1;33m[\u001b[0m\u001b[1;34m'Nparticles'\u001b[0m\u001b[1;33m]\u001b[0m \u001b[1;33m>\u001b[0m \u001b[1;36m0\u001b[0m\u001b[1;33m)\u001b[0m \u001b[1;32mand\u001b[0m \u001b[1;33m(\u001b[0m\u001b[1;34m'particles'\u001b[0m \u001b[1;32min\u001b[0m \u001b[0mnode\u001b[0m\u001b[1;33m)\u001b[0m \u001b[1;32mand\u001b[0m \u001b[1;33m(\u001b[0m\u001b[0mnode\u001b[0m\u001b[1;33m[\u001b[0m\u001b[1;34m'needsUpdate'\u001b[0m\u001b[1;33m]\u001b[0m\u001b[1;33m)\u001b[0m\u001b[1;33m)\u001b[0m\u001b[1;33m:\u001b[0m\u001b[1;33m\u001b[0m\u001b[1;33m\u001b[0m\u001b[0m\n\u001b[0m\u001b[0;32m    214\u001b[0m \u001b[1;33m\u001b[0m\u001b[0m\n\u001b[0;32m    215\u001b[0m                                 \u001b[0mparts\u001b[0m \u001b[1;33m=\u001b[0m \u001b[0mnp\u001b[0m\u001b[1;33m.\u001b[0m\u001b[0marray\u001b[0m\u001b[1;33m(\u001b[0m\u001b[0mnode\u001b[0m\u001b[1;33m[\u001b[0m\u001b[1;34m'particles'\u001b[0m\u001b[1;33m]\u001b[0m\u001b[1;33m)\u001b[0m\u001b[1;33m\u001b[0m\u001b[1;33m\u001b[0m\u001b[0m\n",
      "\u001b[1;31mTypeError\u001b[0m: string indices must be integers"
     ]
    }
   ],
   "source": [
    "begin_timeM1 = datetime.datetime.now()\n",
    "oM1.compileOctree()\n",
    "end_timeM1 = datetime.datetime.now()"
   ]
  },
  {
   "cell_type": "code",
   "execution_count": null,
   "id": "29db12b1",
   "metadata": {},
   "outputs": [],
   "source": [
    "print('multiprocessing execution time : ',end_timeM1 - begin_timeM1)"
   ]
  },
  {
   "cell_type": "markdown",
   "id": "e2b01029",
   "metadata": {},
   "source": [
    "## Trying cythonize (not working)\n",
    "\n",
    "https://cython.readthedocs.io/en/latest/src/tutorial/cython_tutorial.html\n",
    "\n",
    "Had to install Visual Studio's C++ compiler:\n",
    "https://visualstudio.microsoft.com/visual-cpp-build-tools/\n",
    "\n",
    "\n",
    "```\n",
    "$ cp noPandaTest/octreeStreamNoPandas.py cythonTest/octreeStreamCython1.pyx\n",
    "```\n",
    "\n",
    "And created a setup.py file.  Then\n",
    "\n",
    "```\n",
    "$ python setup.py build_ext --inplace\n",
    "\n",
    "```\n",
    "\n",
    "(I will probably want to try to rewrite the code with cython syntax ... but let's see how fast this test is.)\n"
   ]
  },
  {
   "cell_type": "code",
   "execution_count": null,
   "id": "b04135d8",
   "metadata": {},
   "outputs": [],
   "source": [
    "import sys\n",
    "sys.path.insert(1, '/Users/ageller/VISUALIZATIONS/octree_threejs_python/python_octreeStream/cythonTest/')"
   ]
  },
  {
   "cell_type": "code",
   "execution_count": null,
   "id": "d728db80",
   "metadata": {},
   "outputs": [],
   "source": [
    "#%load_ext autoreload\n",
    "#%autoreload 2\n",
    "from octreeStreamCython1 import octreeStream as octreeStreamCython1"
   ]
  },
  {
   "cell_type": "code",
   "execution_count": null,
   "id": "d17b8de6",
   "metadata": {
    "scrolled": true
   },
   "outputs": [],
   "source": [
    "oC1 = octreeStreamCython1('/Users/ageller/VISUALIZATIONS/FIREdata/m12i_res7100/snapdir_600/snapshot_600.0.hdf5', \n",
    "                 h5PartKey = 'PartType0', keyList = ['Coordinates', 'Density', 'Velocities'],\n",
    "                 NNodeMax = 10000, NMemoryMax = 5e4, Nmax=1e5, verbose=1, minWidth=1e-4,\n",
    "                 cleanDir = True,\n",
    "                 path='/Users/ageller/VISUALIZATIONS/octree_threejs_python/WebGL_octreePartition/src/data/junk/octreeNodes/Gas')"
   ]
  },
  {
   "cell_type": "code",
   "execution_count": null,
   "id": "9414e1df",
   "metadata": {
    "scrolled": true
   },
   "outputs": [],
   "source": [
    "begin_timeC1 = datetime.datetime.now()\n",
    "oC1.compileOctree()\n",
    "end_timeC1 = datetime.datetime.now()"
   ]
  },
  {
   "cell_type": "code",
   "execution_count": null,
   "id": "d3171b8f",
   "metadata": {},
   "outputs": [],
   "source": [
    "print('cythonize execution time : ',end_timeC1 - begin_timeC1)"
   ]
  },
  {
   "cell_type": "markdown",
   "id": "ff7046ef",
   "metadata": {},
   "source": [
    "## Trying with numba (not working)\n",
    "\n",
    "https://numba.pydata.org/numba-doc/dev/user/5minguide.html\n",
    "\n",
    "\n",
    "```\n",
    "$ cp octreeStream.py numbaTest/octreeStreamNumba1.py\n",
    "```\n",
    "\n",
    "added \n",
    "```\n",
    "@jit(nopython=True)\n",
    "```\n",
    "throughout the code\n"
   ]
  },
  {
   "cell_type": "code",
   "execution_count": null,
   "id": "d74c5b6f",
   "metadata": {},
   "outputs": [],
   "source": [
    "import datetime\n",
    "import sys\n",
    "sys.path.insert(1, '/Users/ageller/VISUALIZATIONS/octree_threejs_python/python_octreeStream/numbaTest/')"
   ]
  },
  {
   "cell_type": "code",
   "execution_count": null,
   "id": "85ee95bf",
   "metadata": {},
   "outputs": [],
   "source": [
    "%load_ext autoreload\n",
    "%autoreload 2\n",
    "from octreeStreamNumba1 import octreeStream as octreeStreamNumba1"
   ]
  },
  {
   "cell_type": "code",
   "execution_count": null,
   "id": "205063ce",
   "metadata": {},
   "outputs": [],
   "source": [
    "oN1 = octreeStreamNumba1('/Users/ageller/VISUALIZATIONS/FIREdata/m12i_res7100/snapdir_600/snapshot_600.0.hdf5', \n",
    "                 h5PartKey = 'PartType0', keyList = ['Coordinates', 'Density', 'Velocities'],\n",
    "                 NNodeMax = 10000, NMemoryMax = 5e6, Nmax=1e5, verbose=1, minWidth=1e-4,\n",
    "                 path='/Users/ageller/VISUALIZATIONS/octree_threejs_python/WebGL_octreePartition/src/data/junk/octreeNodes/Gas')"
   ]
  },
  {
   "cell_type": "code",
   "execution_count": null,
   "id": "f8bbe253",
   "metadata": {},
   "outputs": [],
   "source": [
    "begin_timeN1 = datetime.datetime.now()\n",
    "oN1.compileOctree()\n",
    "end_timeN1 = datetime.datetime.now()"
   ]
  },
  {
   "cell_type": "code",
   "execution_count": null,
   "id": "e070aa29",
   "metadata": {},
   "outputs": [],
   "source": [
    "print('numba execution time : ',end_timeN1 - begin_timeN1)"
   ]
  },
  {
   "cell_type": "code",
   "execution_count": null,
   "id": "5e0546c3",
   "metadata": {},
   "outputs": [],
   "source": []
  }
 ],
 "metadata": {
  "kernelspec": {
   "display_name": "Python 3 (ipykernel)",
   "language": "python",
   "name": "python3"
  },
  "language_info": {
   "codemirror_mode": {
    "name": "ipython",
    "version": 3
   },
   "file_extension": ".py",
   "mimetype": "text/x-python",
   "name": "python",
   "nbconvert_exporter": "python",
   "pygments_lexer": "ipython3",
   "version": "3.9.7"
  }
 },
 "nbformat": 4,
 "nbformat_minor": 5
}
