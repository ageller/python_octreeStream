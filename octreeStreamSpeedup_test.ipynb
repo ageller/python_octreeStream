{
 "cells": [
  {
   "cell_type": "markdown",
   "id": "449fa7ee",
   "metadata": {},
   "source": [
    "# Testing ways to speed up octree creation"
   ]
  },
  {
   "cell_type": "code",
   "execution_count": null,
   "id": "0e3db4d7",
   "metadata": {},
   "outputs": [],
   "source": [
    "%load_ext autoreload\n",
    "%autoreload 2\n",
    "\n",
    "from octreeStreamOrg import octreeStream"
   ]
  },
  {
   "cell_type": "code",
   "execution_count": null,
   "id": "2eea0d3f",
   "metadata": {},
   "outputs": [],
   "source": [
    "import datetime"
   ]
  },
  {
   "cell_type": "code",
   "execution_count": null,
   "id": "2408e557",
   "metadata": {},
   "outputs": [],
   "source": [
    "o = octreeStream('/Users/ageller/VISUALIZATIONS/FIREdata/m12i_res7100/snapdir_600/snapshot_600.0.hdf5', \n",
    "                 h5PartKey = 'PartType0', keyList = ['Coordinates', 'Density', 'Velocities'],\n",
    "                 NNodeMax = 10000, NMemoryMax = 5e4, Nmax=1e5, verbose=1, minWidth=1e-4,\n",
    "                 path='/Users/ageller/VISUALIZATIONS/octree_threejs_python/WebGL_octreePartition/src/data/junk/octreeNodes/Gas')"
   ]
  },
  {
   "cell_type": "code",
   "execution_count": null,
   "id": "b7d48610",
   "metadata": {},
   "outputs": [],
   "source": [
    "begin_time = datetime.datetime.now()\n",
    "o.compileOctree()\n",
    "end_time = datetime.datetime.now()"
   ]
  },
  {
   "cell_type": "code",
   "execution_count": null,
   "id": "fd246acc",
   "metadata": {},
   "outputs": [],
   "source": [
    "print('normal execution time : ',end_time - begin_time)"
   ]
  },
  {
   "cell_type": "markdown",
   "id": "da0c22c4",
   "metadata": {},
   "source": [
    "## Test writing files without pandas\n",
    "\n",
    "*This is offering a speed up.  I will use this version as the default for now.*"
   ]
  },
  {
   "cell_type": "code",
   "execution_count": null,
   "id": "9b83d7ff",
   "metadata": {},
   "outputs": [],
   "source": [
    "import sys\n",
    "sys.path.insert(1, '/Users/ageller/VISUALIZATIONS/octree_threejs_python/python_octreeStream/noPandasTest/')"
   ]
  },
  {
   "cell_type": "code",
   "execution_count": null,
   "id": "b0d1ed6b",
   "metadata": {},
   "outputs": [],
   "source": [
    "%load_ext autoreload\n",
    "%autoreload 2\n",
    "from octreeStreamNoPandas import octreeStream as octreeStreamNoPandas"
   ]
  },
  {
   "cell_type": "code",
   "execution_count": null,
   "id": "be74ad1c",
   "metadata": {},
   "outputs": [],
   "source": [
    "oP1 = octreeStreamNoPandas('/Users/ageller/VISUALIZATIONS/FIREdata/m12i_res7100/snapdir_600/snapshot_600.0.hdf5', \n",
    "                 h5PartKey = 'PartType0', keyList = ['Coordinates', 'Density', 'Velocities'],\n",
    "                 NNodeMax = 10000, NMemoryMax = 5e4, Nmax=1e5, verbose=1, minWidth=1e-4,\n",
    "                 cleanDir = True,\n",
    "                 path='/Users/ageller/VISUALIZATIONS/octree_threejs_python/WebGL_octreePartition/src/data/junk/octreeNodes/Gas')"
   ]
  },
  {
   "cell_type": "code",
   "execution_count": null,
   "id": "1d4a0a1e",
   "metadata": {},
   "outputs": [],
   "source": [
    "begin_timeP1 = datetime.datetime.now()\n",
    "oP1.compileOctree()\n",
    "end_timeP1 = datetime.datetime.now()"
   ]
  },
  {
   "cell_type": "code",
   "execution_count": null,
   "id": "7308fb53",
   "metadata": {},
   "outputs": [],
   "source": [
    "print('no pandas execution time : ',end_timeP1 - begin_timeP1)"
   ]
  },
  {
   "cell_type": "markdown",
   "id": "7f988652",
   "metadata": {},
   "source": [
    "## Try with multiprocessing\n",
    "\n",
    "*Starting from the no pandas version.*\n",
    "\n",
    "*This is somehow WAAAYYY slower!!! (even with multiepl cores in use.) I guess it's because of all the shared memory?*"
   ]
  },
  {
   "cell_type": "code",
   "execution_count": 5,
   "id": "dcab6432",
   "metadata": {},
   "outputs": [],
   "source": [
    "import sys\n",
    "import datetime\n",
    "sys.path.insert(1, '/Users/ageller/VISUALIZATIONS/octree_threejs_python/python_octreeStream/multiprocessingTest/')"
   ]
  },
  {
   "cell_type": "code",
   "execution_count": 6,
   "id": "181ae0f8",
   "metadata": {},
   "outputs": [
    {
     "name": "stdout",
     "output_type": "stream",
     "text": [
      "The autoreload extension is already loaded. To reload it, use:\n",
      "  %reload_ext autoreload\n"
     ]
    }
   ],
   "source": [
    "%load_ext autoreload\n",
    "%autoreload 2\n",
    "from octreeStreamMultiprocessing import octreeStream as octreeStreamMultiprocessing"
   ]
  },
  {
   "cell_type": "code",
   "execution_count": 7,
   "id": "2c358a36",
   "metadata": {},
   "outputs": [
    {
     "name": "stdout",
     "output_type": "stream",
     "text": [
      "files will be output to: C:\\Users\\ageller\\VISUALIZATIONS\\octree_threejs_python\\WebGL_octreePartition\\src\\data\\junk\\octreeNodes\\Gas\n"
     ]
    }
   ],
   "source": [
    "oM1 = octreeStreamMultiprocessing('/Users/ageller/VISUALIZATIONS/FIREdata/m12i_res7100/snapdir_600/snapshot_600.0.hdf5', \n",
    "                 h5PartKey = 'PartType0', keyList = ['Coordinates', 'Density', 'Velocities'],\n",
    "                 NNodeMax = 10000, NMemoryMax = 5e4, Nmax=1e5, verbose=1, minWidth=1e-4,\n",
    "                 cleanDir = True,\n",
    "                 path='/Users/ageller/VISUALIZATIONS/octree_threejs_python/WebGL_octreePartition/src/data/junk/octreeNodes/Gas')"
   ]
  },
  {
   "cell_type": "code",
   "execution_count": null,
   "id": "2560ced3",
   "metadata": {
    "scrolled": true
   },
   "outputs": [
    {
     "name": "stdout",
     "output_type": "stream",
     "text": [
      "CHECKING NEW NODE {'x': 0, 'y': 0, 'z': 0, 'width': 1000, 'Nparticles': 0, 'id': '0', 'parentNodes': [], 'childNodes': [], 'particles': [], 'needsUpdate': True}\n",
      "0 50000 0 13712161\n",
      "starting jobs 1 0 50000 100000.0\n",
      "joining jobs\n"
     ]
    }
   ],
   "source": [
    "begin_timeM1 = datetime.datetime.now()\n",
    "oM1.compileOctree()\n",
    "end_timeM1 = datetime.datetime.now()"
   ]
  },
  {
   "cell_type": "code",
   "execution_count": null,
   "id": "29db12b1",
   "metadata": {},
   "outputs": [],
   "source": [
    "print('multiprocessing execution time : ',end_timeM1 - begin_timeM1)"
   ]
  },
  {
   "cell_type": "markdown",
   "id": "e2b01029",
   "metadata": {},
   "source": [
    "## Trying cythonize (not working)\n",
    "\n",
    "https://cython.readthedocs.io/en/latest/src/tutorial/cython_tutorial.html\n",
    "\n",
    "Had to install Visual Studio's C++ compiler:\n",
    "https://visualstudio.microsoft.com/visual-cpp-build-tools/\n",
    "\n",
    "\n",
    "```\n",
    "$ cp noPandaTest/octreeStreamNoPandas.py cythonTest/octreeStreamCython1.pyx\n",
    "```\n",
    "\n",
    "And created a setup.py file.  Then\n",
    "\n",
    "```\n",
    "$ python setup.py build_ext --inplace\n",
    "\n",
    "```\n",
    "\n",
    "(I will probably want to try to rewrite the code with cython syntax ... but let's see how fast this test is.)\n"
   ]
  },
  {
   "cell_type": "code",
   "execution_count": null,
   "id": "b04135d8",
   "metadata": {},
   "outputs": [],
   "source": [
    "import sys\n",
    "sys.path.insert(1, '/Users/ageller/VISUALIZATIONS/octree_threejs_python/python_octreeStream/cythonTest/')"
   ]
  },
  {
   "cell_type": "code",
   "execution_count": null,
   "id": "d728db80",
   "metadata": {},
   "outputs": [],
   "source": [
    "#%load_ext autoreload\n",
    "#%autoreload 2\n",
    "from octreeStreamCython1 import octreeStream as octreeStreamCython1"
   ]
  },
  {
   "cell_type": "code",
   "execution_count": null,
   "id": "d17b8de6",
   "metadata": {
    "scrolled": true
   },
   "outputs": [],
   "source": [
    "oC1 = octreeStreamCython1('/Users/ageller/VISUALIZATIONS/FIREdata/m12i_res7100/snapdir_600/snapshot_600.0.hdf5', \n",
    "                 h5PartKey = 'PartType0', keyList = ['Coordinates', 'Density', 'Velocities'],\n",
    "                 NNodeMax = 10000, NMemoryMax = 5e4, Nmax=1e5, verbose=1, minWidth=1e-4,\n",
    "                 cleanDir = True,\n",
    "                 path='/Users/ageller/VISUALIZATIONS/octree_threejs_python/WebGL_octreePartition/src/data/junk/octreeNodes/Gas')"
   ]
  },
  {
   "cell_type": "code",
   "execution_count": null,
   "id": "9414e1df",
   "metadata": {
    "scrolled": true
   },
   "outputs": [],
   "source": [
    "begin_timeC1 = datetime.datetime.now()\n",
    "oC1.compileOctree()\n",
    "end_timeC1 = datetime.datetime.now()"
   ]
  },
  {
   "cell_type": "code",
   "execution_count": null,
   "id": "d3171b8f",
   "metadata": {},
   "outputs": [],
   "source": [
    "print('cythonize execution time : ',end_timeC1 - begin_timeC1)"
   ]
  },
  {
   "cell_type": "markdown",
   "id": "ff7046ef",
   "metadata": {},
   "source": [
    "## Trying with numba (not working)\n",
    "\n",
    "https://numba.pydata.org/numba-doc/dev/user/5minguide.html\n",
    "\n",
    "\n",
    "```\n",
    "$ cp octreeStream.py numbaTest/octreeStreamNumba1.py\n",
    "```\n",
    "\n",
    "added \n",
    "```\n",
    "@jit(nopython=True)\n",
    "```\n",
    "throughout the code\n"
   ]
  },
  {
   "cell_type": "code",
   "execution_count": null,
   "id": "d74c5b6f",
   "metadata": {},
   "outputs": [],
   "source": [
    "import datetime\n",
    "import sys\n",
    "sys.path.insert(1, '/Users/ageller/VISUALIZATIONS/octree_threejs_python/python_octreeStream/numbaTest/')"
   ]
  },
  {
   "cell_type": "code",
   "execution_count": null,
   "id": "85ee95bf",
   "metadata": {},
   "outputs": [],
   "source": [
    "%load_ext autoreload\n",
    "%autoreload 2\n",
    "from octreeStreamNumba1 import octreeStream as octreeStreamNumba1"
   ]
  },
  {
   "cell_type": "code",
   "execution_count": null,
   "id": "205063ce",
   "metadata": {},
   "outputs": [],
   "source": [
    "oN1 = octreeStreamNumba1('/Users/ageller/VISUALIZATIONS/FIREdata/m12i_res7100/snapdir_600/snapshot_600.0.hdf5', \n",
    "                 h5PartKey = 'PartType0', keyList = ['Coordinates', 'Density', 'Velocities'],\n",
    "                 NNodeMax = 10000, NMemoryMax = 5e6, Nmax=1e5, verbose=1, minWidth=1e-4,\n",
    "                 path='/Users/ageller/VISUALIZATIONS/octree_threejs_python/WebGL_octreePartition/src/data/junk/octreeNodes/Gas')"
   ]
  },
  {
   "cell_type": "code",
   "execution_count": null,
   "id": "f8bbe253",
   "metadata": {},
   "outputs": [],
   "source": [
    "begin_timeN1 = datetime.datetime.now()\n",
    "oN1.compileOctree()\n",
    "end_timeN1 = datetime.datetime.now()"
   ]
  },
  {
   "cell_type": "code",
   "execution_count": null,
   "id": "e070aa29",
   "metadata": {},
   "outputs": [],
   "source": [
    "print('numba execution time : ',end_timeN1 - begin_timeN1)"
   ]
  },
  {
   "cell_type": "code",
   "execution_count": null,
   "id": "5e0546c3",
   "metadata": {},
   "outputs": [],
   "source": []
  }
 ],
 "metadata": {
  "kernelspec": {
   "display_name": "Python 3 (ipykernel)",
   "language": "python",
   "name": "python3"
  },
  "language_info": {
   "codemirror_mode": {
    "name": "ipython",
    "version": 3
   },
   "file_extension": ".py",
   "mimetype": "text/x-python",
   "name": "python",
   "nbconvert_exporter": "python",
   "pygments_lexer": "ipython3",
   "version": "3.9.7"
  }
 },
 "nbformat": 4,
 "nbformat_minor": 5
}
