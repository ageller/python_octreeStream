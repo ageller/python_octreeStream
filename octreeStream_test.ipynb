{
 "cells": [
  {
   "cell_type": "markdown",
   "id": "cb6d015c",
   "metadata": {},
   "source": [
    "# Attempting to write an octree in python\n",
    "\n",
    "I want this to work with VERY large data sets that can't be stored fully in memory.  So my procedure will be as follows:\n",
    "- need to read in line-by-line and clear memory every X MB (or maybe every X particles;can I check memory load in python?)\n",
    "- go down to nodes with containing N particles\n",
    "- need to write out tree with node sizes and centers and also ending nodes with actual particles\n",
    "\n",
    "I will work in the octreeStream.py file.  This is working, though once it has to start reading and writing lots of files, it becomes VERY slow (setting NMemoryMax to be as large as possible will speed things up).\n",
    "\n",
    "The ultimate goal is to use this within Firefly.  First I create the python code.  Then I will create a simple WebGL utility to use it (hopefully showing more Gaia data than it can handle w/o the octree).  Then we will work on incorporating this into Firefly."
   ]
  },
  {
   "cell_type": "code",
   "execution_count": 2,
   "id": "3db0ea9c",
   "metadata": {},
   "outputs": [
    {
     "name": "stdout",
     "output_type": "stream",
     "text": [
      "The autoreload extension is already loaded. To reload it, use:\n",
      "  %reload_ext autoreload\n"
     ]
    }
   ],
   "source": [
    "%load_ext autoreload\n",
    "%autoreload 2\n",
    "\n",
    "from octreeStream import octreeStream"
   ]
  },
  {
   "cell_type": "code",
   "execution_count": 7,
   "id": "3eca6b4e",
   "metadata": {},
   "outputs": [
    {
     "name": "stdout",
     "output_type": "stream",
     "text": [
      "files will be output to: C:\\Users\\ageller\\VISUALIZATIONS\\octree_threejs_Gaia\\WebGL_octreePartition\\src\\data\\junk\n"
     ]
    }
   ],
   "source": [
    "#I'll use a Gaia data set.  I've already compiled this one from DR2.  For production, I'd want to recompile from EDR3\n",
    "# WORK/Gaia/GaiaCompiled_RV_TAP.txt\n",
    "# for some reason this is a space-separated and not comma-separated, but here are the colummns\n",
    "# 'x', 'y', 'z', 'vx', 'vy', 'vz', 'teff_val', 'phot_g_mean_mag', 'flag'\n",
    "# I believe flag == 1 if there is no RV; for now all I care about is the x,y,z, position\n",
    "\n",
    "o = octreeStream('/Users/ageller/WORK/Gaia/GaiaCompiled_RV_TAP.txt', delim = ' ', \n",
    "                 NNodeMax = 50000, NMemoryMax = 3e6, Nmax=1e5, verbose=1, minWidth=0.1,\n",
    "                 path='/Users/ageller/VISUALIZATIONS/octree_threejs_Gaia/WebGL_octreePartition/src/data/junk')"
   ]
  },
  {
   "cell_type": "code",
   "execution_count": 8,
   "id": "7d57e735",
   "metadata": {},
   "outputs": [
    {
     "name": "stdout",
     "output_type": "stream",
     "text": [
      "have initial center and size [ -457.4696629   -433.66704784 -1039.13279431] 15557.616459301153\n",
      "line :  10000\n",
      "line :  20000\n",
      "line :  30000\n",
      "line :  40000\n",
      "creating child nodes 0 0 50000 15557.616459301153\n",
      "line :  50000\n",
      "creating child nodes 1 0_1 50000 7778.808229650576\n",
      "creating child nodes 16 0_1_8 50000 3889.404114825288\n",
      "creating child nodes 24 0_1_8_8 50000 1944.702057412644\n",
      "line :  60000\n",
      "line :  70000\n",
      "line :  80000\n",
      "creating child nodes 28 0_1_8_8_4 50000 972.351028706322\n",
      "line :  90000\n",
      "line :  100000\n",
      "dumping nodes to files ...\n",
      "randomizing particle order in data files ... \n",
      "done\n"
     ]
    }
   ],
   "source": [
    "o.compileOctree()"
   ]
  },
  {
   "cell_type": "code",
   "execution_count": 9,
   "id": "774f4ba7",
   "metadata": {},
   "outputs": [
    {
     "name": "stdout",
     "output_type": "stream",
     "text": [
      "Number of bad files =  0\n",
      "maximum number of particles in a file =  28960\n",
      "minimum number of particles in a file =  3\n"
     ]
    }
   ],
   "source": [
    "o.checkNodeFiles()"
   ]
  },
  {
   "cell_type": "code",
   "execution_count": 10,
   "id": "a905f7fc",
   "metadata": {},
   "outputs": [
    {
     "name": "stdout",
     "output_type": "stream",
     "text": [
      "Populated octree from files.\n",
      " -- total number of particles =  100000\n",
      " -- total number of nodes =  41\n",
      " -- total number of base nodes =  30\n"
     ]
    }
   ],
   "source": [
    "#o.populateAllNodesFromFiles()"
   ]
  },
  {
   "cell_type": "markdown",
   "id": "cb37fc0b",
   "metadata": {},
   "source": [
    "## Testing with hdf5 files"
   ]
  },
  {
   "cell_type": "markdown",
   "id": "67f5bc97",
   "metadata": {},
   "source": [
    "### Gas"
   ]
  },
  {
   "cell_type": "code",
   "execution_count": 176,
   "id": "61a52546",
   "metadata": {
    "scrolled": true
   },
   "outputs": [
    {
     "name": "stdout",
     "output_type": "stream",
     "text": [
      "files will be output to: C:\\Users\\ageller\\VISUALIZATIONS\\octree_threejs_Gaia\\WebGL_octreePartition\\src\\data\\m12i_res71000\\octreeNodes\\Gas\n"
     ]
    }
   ],
   "source": [
    "o = octreeStream('/Users/ageller/VISUALIZATIONS/FIREdata/m12i_res7100/snapdir_600/snapshot_600.0.hdf5', \n",
    "                 h5keyList = ['PartType0', 'Coordinates'],\n",
    "                 NNodeMax = 50000, NMemoryMax = 5e6, Nmax=1e9, verbose=1, minWidth=1e-4,\n",
    "                 path='/Users/ageller/VISUALIZATIONS/octree_threejs_Gaia/WebGL_octreePartition/src/data/m12i_res71000/octreeNodes/Gas')"
   ]
  },
  {
   "cell_type": "code",
   "execution_count": null,
   "id": "2ea59f23",
   "metadata": {
    "scrolled": true
   },
   "outputs": [
    {
     "name": "stdout",
     "output_type": "stream",
     "text": [
      "calculating center and size ... \n",
      "have initial center and size [29367.70125147 31128.80508096 32527.27650095] 15612.77387281969\n",
      "line :  10000\n",
      "line :  20000\n",
      "line :  30000\n",
      "line :  40000\n",
      "creating child nodes 0 50000 15612.77387281969\n",
      "line :  50000\n",
      "line :  60000\n",
      "line :  70000\n",
      "line :  80000\n",
      "line :  90000\n",
      "line :  100000\n",
      "line :  110000\n",
      "line :  120000\n",
      "creating child nodes 07 50000 7806.386936409845\n",
      "creating child nodes 072 50001 3903.1934682049223\n",
      "line :  130000\n",
      "creating child nodes 0722 50000 1951.5967341024611\n",
      "line :  140000\n",
      "line :  150000\n",
      "line :  160000\n",
      "line :  170000\n",
      "creating child nodes 07221 50000 975.7983670512306\n",
      "line :  180000\n",
      "line :  190000\n",
      "line :  200000\n",
      "line :  210000\n",
      "line :  220000\n",
      "line :  230000\n",
      "creating child nodes 07222 50000 975.7983670512306\n",
      "creating child nodes 072222 50001 487.8991835256153\n",
      "creating child nodes 0722222 50002 243.94959176280764\n",
      "creating child nodes 07222224 50003 121.97479588140382\n",
      "creating child nodes 072222242 50000 60.98739794070191\n",
      "line :  240000\n",
      "line :  250000\n",
      "creating child nodes 06 50000 7806.386936409845\n",
      "creating child nodes 063 50001 3903.1934682049223\n",
      "creating child nodes 0633 50002 1951.5967341024611\n",
      "line :  260000\n",
      "line :  270000\n",
      "line :  280000\n",
      "line :  290000\n",
      "line :  300000\n",
      "line :  310000\n",
      "creating child nodes 01 50000 7806.386936409845\n",
      "creating child nodes 018 50001 3903.1934682049223\n",
      "creating child nodes 0188 50002 1951.5967341024611\n",
      "line :  320000\n",
      "line :  330000\n",
      "line :  340000\n",
      "creating child nodes 03 50000 7806.386936409845\n",
      "creating child nodes 036 50001 3903.1934682049223\n",
      "creating child nodes 0366 50002 1951.5967341024611\n",
      "line :  350000\n",
      "creating child nodes 03666 50000 975.7983670512306\n",
      "line :  360000\n",
      "line :  370000\n",
      "line :  380000\n",
      "line :  390000\n",
      "line :  400000\n",
      "line :  410000\n",
      "line :  420000\n",
      "line :  430000\n",
      "creating child nodes 01886 50000 975.7983670512306\n",
      "line :  440000\n",
      "line :  450000\n",
      "line :  460000\n",
      "line :  470000\n",
      "line :  480000\n",
      "creating child nodes 08 50000 7806.386936409845\n",
      "creating child nodes 081 50001 3903.1934682049223\n",
      "creating child nodes 0811 50002 1951.5967341024611\n",
      "creating child nodes 08111 50000 975.7983670512306\n",
      "line :  490000\n",
      "line :  500000\n",
      "line :  510000\n",
      "line :  520000\n",
      "line :  530000\n",
      "creating child nodes 04 50000 7806.386936409845\n",
      "creating child nodes 045 50001 3903.1934682049223\n",
      "creating child nodes 0455 50002 1951.5967341024611\n",
      "creating child nodes 04555 50003 975.7983670512306\n",
      "line :  540000\n",
      "line :  550000\n",
      "line :  560000\n",
      "line :  570000\n",
      "line :  580000\n",
      "creating child nodes 018861 50000 487.8991835256153\n",
      "line :  590000\n",
      "line :  600000\n",
      "line :  610000\n",
      "line :  620000\n",
      "line :  630000\n",
      "line :  640000\n",
      "creating child nodes 02 50000 7806.386936409845\n",
      "creating child nodes 027 50001 3903.1934682049223\n",
      "creating child nodes 0277 50002 1951.5967341024611\n",
      "line :  650000\n",
      "line :  660000\n",
      "line :  670000\n",
      "line :  680000\n",
      "line :  690000\n",
      "line :  700000\n",
      "line :  710000\n",
      "line :  720000\n",
      "line :  730000\n",
      "line :  740000\n",
      "line :  750000\n",
      "line :  760000\n",
      "creating child nodes 01888 50000 975.7983670512306\n",
      "line :  770000\n",
      "line :  780000\n",
      "line :  790000\n",
      "line :  800000\n",
      "line :  810000\n",
      "line :  820000\n",
      "line :  830000\n",
      "line :  840000\n",
      "line :  850000\n",
      "line :  860000\n",
      "line :  870000\n",
      "line :  880000\n",
      "line :  890000\n",
      "line :  900000\n",
      "line :  910000\n",
      "line :  920000\n",
      "line :  930000\n",
      "line :  940000\n",
      "creating child nodes 081111 50000 487.8991835256153\n",
      "line :  950000\n",
      "line :  960000\n",
      "line :  970000\n",
      "line :  980000\n",
      "line :  990000\n",
      "line :  1000000\n",
      "creating child nodes 045555 50000 487.8991835256153\n",
      "line :  1010000\n",
      "line :  1020000\n",
      "line :  1030000\n",
      "line :  1040000\n",
      "line :  1050000\n",
      "line :  1060000\n",
      "line :  1070000\n",
      "creating child nodes 06334 50000 975.7983670512306\n",
      "line :  1080000\n",
      "line :  1090000\n",
      "line :  1100000\n",
      "line :  1110000\n",
      "line :  1120000\n",
      "line :  1130000\n",
      "line :  1140000\n",
      "creating child nodes 05 50000 7806.386936409845\n",
      "creating child nodes 054 50001 3903.1934682049223\n",
      "creating child nodes 0544 50002 1951.5967341024611\n"
     ]
    }
   ],
   "source": [
    "o.compileOctree()"
   ]
  },
  {
   "cell_type": "code",
   "execution_count": null,
   "id": "a14a314c",
   "metadata": {
    "scrolled": true
   },
   "outputs": [],
   "source": [
    "o.compileOctree(inputFile='/Users/ageller/VISUALIZATIONS/FIREdata/m12i_res7100/snapdir_600/snapshot_600.1.hdf5', append=True)"
   ]
  },
  {
   "cell_type": "code",
   "execution_count": null,
   "id": "347a3b42",
   "metadata": {},
   "outputs": [],
   "source": [
    "o.compileOctree(inputFile='/Users/ageller/VISUALIZATIONS/FIREdata/m12i_res7100/snapdir_600/snapshot_600.2.hdf5', append=True)"
   ]
  },
  {
   "cell_type": "code",
   "execution_count": null,
   "id": "aade108c",
   "metadata": {},
   "outputs": [],
   "source": [
    "o.compileOctree(inputFile='/Users/ageller/VISUALIZATIONS/FIREdata/m12i_res7100/snapdir_600/snapshot_600.3.hdf5', append=True)"
   ]
  },
  {
   "cell_type": "code",
   "execution_count": null,
   "id": "910d7016",
   "metadata": {},
   "outputs": [],
   "source": [
    "o.checkNodeFiles()"
   ]
  },
  {
   "cell_type": "markdown",
   "id": "c2a6ba4e",
   "metadata": {},
   "source": [
    "### Stars"
   ]
  },
  {
   "cell_type": "code",
   "execution_count": null,
   "id": "479835e9",
   "metadata": {},
   "outputs": [],
   "source": [
    "o = octreeStream('/Users/ageller/VISUALIZATIONS/FIREdata/m12i_res7100/snapdir_600/snapshot_600.0.hdf5', \n",
    "                 h5keyList = ['PartType4', 'Coordinates'],\n",
    "                 NNodeMax = 50000, NMemoryMax = 5e6, Nmax=1e9, verbose=1, minWidth=1e-4,\n",
    "                 path='/Users/ageller/VISUALIZATIONS/octree_threejs_Gaia/WebGL_octreePartition/src/data/m12i_res71000/octreeNodes/Stars')"
   ]
  },
  {
   "cell_type": "code",
   "execution_count": null,
   "id": "89a730da",
   "metadata": {},
   "outputs": [],
   "source": [
    "o.compileOctree(inputFile='/Users/ageller/VISUALIZATIONS/FIREdata/m12i_res7100/snapdir_600/snapshot_600.1.hdf5', append=True)"
   ]
  },
  {
   "cell_type": "code",
   "execution_count": null,
   "id": "89bd7533",
   "metadata": {},
   "outputs": [],
   "source": [
    "o.compileOctree(inputFile='/Users/ageller/VISUALIZATIONS/FIREdata/m12i_res7100/snapdir_600/snapshot_600.2.hdf5', append=True)"
   ]
  },
  {
   "cell_type": "code",
   "execution_count": null,
   "id": "80bf69c4",
   "metadata": {},
   "outputs": [],
   "source": [
    "o.compileOctree(inputFile='/Users/ageller/VISUALIZATIONS/FIREdata/m12i_res7100/snapdir_600/snapshot_600.3.hdf5', append=True)"
   ]
  },
  {
   "cell_type": "code",
   "execution_count": null,
   "id": "e663a341",
   "metadata": {},
   "outputs": [],
   "source": [
    "o.checkNodeFiles()"
   ]
  },
  {
   "cell_type": "markdown",
   "id": "bac2a1d0",
   "metadata": {},
   "source": [
    "### HRDM"
   ]
  },
  {
   "cell_type": "code",
   "execution_count": null,
   "id": "8569f400",
   "metadata": {},
   "outputs": [],
   "source": [
    "o = octreeStream('/Users/ageller/VISUALIZATIONS/FIREdata/m12i_res7100/snapdir_600/snapshot_600.0.hdf5', \n",
    "                 h5keyList = ['PartType1', 'Coordinates'],\n",
    "                 NNodeMax = 50000, NMemoryMax = 5e6, Nmax=1e9, verbose=1, minWidth=1e-4,\n",
    "                 path='/Users/ageller/VISUALIZATIONS/octree_threejs_Gaia/WebGL_octreePartition/src/data/m12i_res71000/octreeNodes/HRDM')"
   ]
  },
  {
   "cell_type": "code",
   "execution_count": null,
   "id": "ed805598",
   "metadata": {},
   "outputs": [],
   "source": [
    "o.compileOctree(inputFile='/Users/ageller/VISUALIZATIONS/FIREdata/m12i_res7100/snapdir_600/snapshot_600.1.hdf5', append=True)"
   ]
  },
  {
   "cell_type": "code",
   "execution_count": null,
   "id": "ccf8f558",
   "metadata": {},
   "outputs": [],
   "source": [
    "o.compileOctree(inputFile='/Users/ageller/VISUALIZATIONS/FIREdata/m12i_res7100/snapdir_600/snapshot_600.2.hdf5', append=True)"
   ]
  },
  {
   "cell_type": "code",
   "execution_count": null,
   "id": "cd74a8a3",
   "metadata": {},
   "outputs": [],
   "source": [
    "o.compileOctree(inputFile='/Users/ageller/VISUALIZATIONS/FIREdata/m12i_res7100/snapdir_600/snapshot_600.3.hdf5', append=True)"
   ]
  },
  {
   "cell_type": "code",
   "execution_count": null,
   "id": "3b7fdb5a",
   "metadata": {},
   "outputs": [],
   "source": [
    "o.checkNodeFiles()"
   ]
  },
  {
   "cell_type": "markdown",
   "id": "5fe7ecc9",
   "metadata": {},
   "source": [
    "### LRDM"
   ]
  },
  {
   "cell_type": "code",
   "execution_count": null,
   "id": "1cc9e066",
   "metadata": {},
   "outputs": [],
   "source": [
    "o = octreeStream('/Users/ageller/VISUALIZATIONS/FIREdata/m12i_res7100/snapdir_600/snapshot_600.0.hdf5', \n",
    "                 h5keyList = ['PartType2', 'Coordinates'],\n",
    "                 NNodeMax = 50000, NMemoryMax = 5e6, Nmax=1e9, verbose=1, minWidth=1e-4,\n",
    "                 path='/Users/ageller/VISUALIZATIONS/octree_threejs_Gaia/WebGL_octreePartition/src/data/m12i_res71000/octreeNodes/LRDM')"
   ]
  },
  {
   "cell_type": "code",
   "execution_count": null,
   "id": "c65c3eb9",
   "metadata": {},
   "outputs": [],
   "source": [
    "o.compileOctree(inputFile='/Users/ageller/VISUALIZATIONS/FIREdata/m12i_res7100/snapdir_600/snapshot_600.1.hdf5', append=True)"
   ]
  },
  {
   "cell_type": "code",
   "execution_count": null,
   "id": "38c7f263",
   "metadata": {},
   "outputs": [],
   "source": [
    "o.compileOctree(inputFile='/Users/ageller/VISUALIZATIONS/FIREdata/m12i_res7100/snapdir_600/snapshot_600.2.hdf5', append=True)"
   ]
  },
  {
   "cell_type": "code",
   "execution_count": null,
   "id": "d82cf124",
   "metadata": {},
   "outputs": [],
   "source": [
    "o.compileOctree(inputFile='/Users/ageller/VISUALIZATIONS/FIREdata/m12i_res7100/snapdir_600/snapshot_600.3.hdf5', append=True)"
   ]
  },
  {
   "cell_type": "code",
   "execution_count": null,
   "id": "3c74fe9b",
   "metadata": {},
   "outputs": [],
   "source": [
    "o.checkNodeFiles()"
   ]
  },
  {
   "cell_type": "code",
   "execution_count": null,
   "id": "85c856ea",
   "metadata": {},
   "outputs": [],
   "source": []
  },
  {
   "cell_type": "code",
   "execution_count": null,
   "id": "1b26a32c",
   "metadata": {},
   "outputs": [],
   "source": []
  },
  {
   "cell_type": "code",
   "execution_count": null,
   "id": "286e37ac",
   "metadata": {},
   "outputs": [],
   "source": [
    "#o.populateAllNodesFromFiles()"
   ]
  },
  {
   "cell_type": "code",
   "execution_count": 100,
   "id": "d8687870",
   "metadata": {},
   "outputs": [
    {
     "name": "stdout",
     "output_type": "stream",
     "text": [
      "checking node...\n",
      "width =  0.00011632423008098967\n",
      "center =  [29367.70130963009, 30945.842945297733, 32405.301763230585]\n",
      "mean particle position =  [28117.75403463 29846.04872256 31358.68751193]\n",
      "max particle position =  [29002.849053   30850.33039364 32111.48087621]\n",
      "min particle position =  [28005.81009505 29706.78577699 31173.12291594]\n",
      "max distance for particle positions =  [ 997.03895795 1143.54461666  938.35796027]\n"
     ]
    }
   ],
   "source": [
    "o.checkNodeParticles(iden='0722222468888888888888888888')"
   ]
  },
  {
   "cell_type": "code",
   "execution_count": 101,
   "id": "353c9694",
   "metadata": {},
   "outputs": [],
   "source": [
    "import numpy as np"
   ]
  },
  {
   "cell_type": "code",
   "execution_count": 105,
   "id": "73673821",
   "metadata": {},
   "outputs": [
    {
     "name": "stdout",
     "output_type": "stream",
     "text": [
      "[[29367.70125147 31128.80508096 32527.27650095]\n",
      " [33270.89471967 35031.99854916 36430.46996915]\n",
      " [25464.50778326 35031.99854916 36430.46996915]\n",
      " ...\n",
      " [29367.70130963 30884.85566368 32496.78286014]\n",
      " [29367.70142595 30884.85554736 32496.78286014]\n",
      " [29367.70130963 30884.85554736 32496.78286014]]\n"
     ]
    }
   ],
   "source": [
    "for i,n in enumerate(o.nodes):\n",
    "    if (i == 0):\n",
    "        allPositions = np.array([[n['x'], n['y'], n['z']]])\n",
    "    else:\n",
    "        allPositions = np.append(allPositions, [[n['x'], n['y'], n['z']]], axis=0)\n",
    "print(allPositions)"
   ]
  },
  {
   "cell_type": "code",
   "execution_count": 104,
   "id": "fd3e8e80",
   "metadata": {},
   "outputs": [
    {
     "data": {
      "text/plain": [
       "array([[33270.89471967, 27225.61161275, 36430.46996915],\n",
       "       [25464.50778326, 27225.61161275, 36430.46996915],\n",
       "       [32295.09635262, 30153.00671391, 31551.4781339 ],\n",
       "       [31075.34839381, 30396.95630567, 32283.32690919],\n",
       "       [31075.34839381, 30396.95630567, 31795.42772566],\n",
       "       [31075.34839381, 30884.85548919, 31795.42772566],\n",
       "       [31075.34839381, 30884.85548919, 32283.32690919],\n",
       "       [30587.44921028, 30884.85548919, 31795.42772566],\n",
       "       [30587.44921028, 30396.95630567, 32283.32690919],\n",
       "       [30587.44921028, 30396.95630567, 31795.42772566],\n",
       "       [29413.44179992, 30991.58343559, 32481.53595249],\n",
       "       [29413.44179992, 30961.08973662, 32512.02965146],\n",
       "       [29382.94810095, 30961.08973662, 32512.02965146],\n",
       "       [29382.94810095, 30991.58343559, 32512.02965146],\n",
       "       [29398.19495044, 31037.32398405, 32496.78280198],\n",
       "       [29489.67598919, 31128.8050228 , 32527.27644279],\n",
       "       [29413.44179992, 30930.59603765, 32512.02965146],\n",
       "       [29382.94810095, 30930.59603765, 32512.02965146],\n",
       "       [29413.44179992, 30900.10233868, 32481.53595249],\n",
       "       [29421.06522467, 30907.72576342, 32504.40622672],\n",
       "       [29421.06522467, 30907.72576342, 32519.65307621],\n",
       "       [29405.81837518, 30892.47891394, 32519.65307621],\n",
       "       [29432.50036178, 31117.36994384, 32523.46478858],\n",
       "       [29430.59450559, 31123.0875124 , 32525.37064476],\n",
       "       [29429.6415775 , 31125.94629668, 32526.32357286],\n",
       "       [29429.16511346, 31127.37568882, 32526.8000369 ],\n",
       "       [29428.92688143, 31128.09038489, 32527.03826893],\n",
       "       [29428.80776542, 31128.44773292, 32527.15738494],\n",
       "       [29428.74820741, 31128.62640694, 32527.21694294],\n",
       "       [29428.71842841, 31128.71574395, 32527.24672195],\n",
       "       [29428.70353891, 31128.76041245, 32527.26161145],\n",
       "       [29428.69609416, 31128.78274671, 32527.2690562 ],\n",
       "       [29428.6905106 , 31128.79949739, 32527.27463976],\n",
       "       [29428.68870757, 31128.8050228 , 32527.27644279],\n",
       "       [29413.44179992, 30991.58343559, 32451.04225352],\n",
       "       [29382.94810095, 30961.08973662, 32451.04225352],\n",
       "       [29382.94810095, 30991.58343559, 32451.04225352],\n",
       "       [29382.94810095, 30991.58343559, 32420.54855455],\n",
       "       [29375.32467621, 30968.71316136, 32428.1719793 ],\n",
       "       [29367.70130963, 30945.8429453 , 32405.30176323],\n",
       "       [30709.42400616, 30762.88069331, 32161.35211331],\n",
       "       [30709.42400616, 31006.83028508, 32161.35211331],\n",
       "       [30465.4744144 , 30762.88069331, 32161.35211331],\n",
       "       [30465.4744144 , 31006.83028508, 32161.35211331],\n",
       "       [30709.42400616, 30762.88069331, 32405.30170507],\n",
       "       [30465.4744144 , 30762.88069331, 32405.30170507],\n",
       "       [30465.4744144 , 31006.83028508, 32405.30170507],\n",
       "       [30709.42400616, 31006.83028508, 32405.30170507],\n",
       "       [29424.87693704, 30896.29062631, 32508.21793909],\n",
       "       [29424.87693704, 30888.66720157, 32508.21793909],\n",
       "       [29424.87693704, 30896.29062631, 32500.59451435],\n",
       "       [29417.25351229, 30888.66720157, 32500.59451435],\n",
       "       [29382.94810095, 31113.55823147, 32451.04225352],\n",
       "       [29382.94810095, 31083.0645325 , 32451.04225352],\n",
       "       [29375.32467621, 31121.18165622, 32428.1719793 ],\n",
       "       [29375.32467621, 31105.93480673, 32412.92512981],\n",
       "       [29371.51296384, 31124.99336859, 32416.73684218],\n",
       "       [29371.51296384, 31117.36994384, 32409.11341744],\n",
       "       [29369.60710765, 31126.89922477, 32411.01927363],\n",
       "       [29369.60710765, 31123.0875124 , 32407.20756125],\n",
       "       [29368.65417956, 31127.85215286, 32408.16048935],\n",
       "       [29368.65417956, 31125.94629668, 32406.25463316],\n",
       "       [29368.17771551, 31128.32861691, 32406.73109721],\n",
       "       [29368.17771551, 31127.37568882, 32405.77816911],\n",
       "       [29367.93948349, 31128.56684893, 32406.01640114],\n",
       "       [29367.93948349, 31128.09038489, 32405.53993709],\n",
       "       [29367.82036748, 31128.68596495, 32405.6590531 ],\n",
       "       [29367.82036748, 31128.44773292, 32405.42082108],\n",
       "       [29367.76080947, 31128.74552295, 32405.48037909],\n",
       "       [29367.76080947, 31128.62640694, 32405.36126307],\n",
       "       [29367.73103047, 31128.77530195, 32405.39104208],\n",
       "       [29367.73103047, 31128.71574395, 32405.33148407],\n",
       "       [29367.71614097, 31128.79019146, 32405.34637357],\n",
       "       [29367.71614097, 31128.76041245, 32405.31659457],\n",
       "       [29367.70869622, 31128.79763621, 32405.32403932],\n",
       "       [29367.70869622, 31128.78274671, 32405.30914982],\n",
       "       [29367.70497384, 31128.80135858, 32405.31287219],\n",
       "       [29367.70497384, 31128.79391383, 32405.30542744],\n",
       "       [29367.70218206, 31128.80228918, 32405.30263566],\n",
       "       [29367.70218206, 31128.80415036, 32405.30449685],\n",
       "       [29367.70171676, 31128.80461566, 32405.30310096],\n",
       "       [29367.70130963, 31128.8050228 , 32405.30176323],\n",
       "       [29375.32467621, 30907.72576342, 32519.65307621],\n",
       "       [29375.32467621, 30892.47891394, 32519.65307621],\n",
       "       [29375.32467621, 30907.72576342, 32504.40622672],\n",
       "       [29390.5715257 , 30892.47891394, 32519.65307621],\n",
       "       [31075.34839381, 29909.05712214, 32283.32690919],\n",
       "       [31075.34839381, 29909.05712214, 31795.42772566],\n",
       "       [30465.4744144 , 29299.18314274, 32405.30170507],\n",
       "       [30465.4744144 , 29299.18314274, 32161.35211331],\n",
       "       [30465.4744144 , 29543.1327345 , 32161.35211331],\n",
       "       [30465.4744144 , 29543.1327345 , 32405.30170507],\n",
       "       [29426.78279322, 30890.57305775, 32498.68865817],\n",
       "       [29426.78279322, 30886.76134538, 32502.50037054],\n",
       "       [29426.78279322, 30890.57305775, 32502.50037054],\n",
       "       [29422.97108085, 30886.76134538, 32498.68865817],\n",
       "       [29427.73572132, 30887.71427347, 32497.73573007],\n",
       "       [29427.73572132, 30887.71427347, 32499.64158626],\n",
       "       [29427.73572132, 30885.80841729, 32499.64158626],\n",
       "       [29425.82986513, 30885.80841729, 32497.73573007],\n",
       "       [29428.21218536, 30886.28488133, 32497.25926603],\n",
       "       [29428.21218536, 30885.33195324, 32498.21219412],\n",
       "       [29428.21218536, 30886.28488133, 32498.21219412],\n",
       "       [29427.25925727, 30885.33195324, 32497.25926603],\n",
       "       [29428.45041739, 30885.57018526, 32497.021034  ],\n",
       "       [29428.45041739, 30885.09372122, 32497.49749805],\n",
       "       [29428.45041739, 30885.57018526, 32497.49749805],\n",
       "       [29427.97395334, 30885.09372122, 32497.021034  ],\n",
       "       [29428.5695334 , 30885.21283723, 32496.90191799],\n",
       "       [29428.5695334 , 30884.97460521, 32497.14015001],\n",
       "       [29428.33130137, 30884.97460521, 32496.90191799],\n",
       "       [29428.6290914 , 30885.03416321, 32496.84235999],\n",
       "       [29428.6290914 , 30884.9150472 , 32496.961476  ],\n",
       "       [29428.50997539, 30884.9150472 , 32496.84235999],\n",
       "       [29428.65887041, 30884.9448262 , 32496.81258098],\n",
       "       [29428.65887041, 30884.8852682 , 32496.87213899],\n",
       "       [29428.5993124 , 30884.8852682 , 32496.81258098],\n",
       "       [29428.67375991, 30884.9001577 , 32496.79769148],\n",
       "       [29428.67375991, 30884.8703787 , 32496.82747048],\n",
       "       [29428.6439809 , 30884.8703787 , 32496.79769148],\n",
       "       [29428.68120466, 30884.86293395, 32496.80513623],\n",
       "       [29428.68120466, 30884.87782345, 32496.79024673],\n",
       "       [29428.66631516, 30884.86293395, 32496.79024673],\n",
       "       [29428.68492703, 30884.85921157, 32496.79396911],\n",
       "       [29428.68492703, 30884.86665632, 32496.78652435],\n",
       "       [29428.67748228, 30884.85921157, 32496.78652435],\n",
       "       [29428.68678822, 30884.86107276, 32496.78466317],\n",
       "       [29428.68678822, 30884.85735038, 32496.78838554],\n",
       "       [29428.68306585, 30884.85735038, 32496.78466317],\n",
       "       [29428.68771881, 30884.85641979, 32496.78559376],\n",
       "       [29428.68771881, 30884.85828098, 32496.78373257],\n",
       "       [29428.68585763, 30884.85641979, 32496.78373257],\n",
       "       [29428.68818411, 30884.85688509, 32496.78326728],\n",
       "       [29428.68859125, 30884.85554736, 32496.78286014],\n",
       "       [29375.32467621, 30953.46631188, 32473.91252775],\n",
       "       [29375.32467621, 30953.46631188, 32489.15937724],\n",
       "       [29375.32467621, 30968.71316136, 32489.15937724],\n",
       "       [29375.32467621, 30968.71316136, 32473.91252775],\n",
       "       [29390.5715257 , 30953.46631188, 32473.91252775],\n",
       "       [29390.5715257 , 30968.71316136, 32489.15937724],\n",
       "       [29417.25351229, 30888.66720157, 32523.46478858],\n",
       "       [29424.87693704, 30888.66720157, 32515.84136384],\n",
       "       [29424.87693704, 30896.29062631, 32523.46478858],\n",
       "       [29424.87693704, 30896.29062631, 32515.84136384],\n",
       "       [29422.97108085, 30886.76134538, 32525.37064476],\n",
       "       [29426.78279322, 30886.76134538, 32521.55893239],\n",
       "       [29426.78279322, 30890.57305775, 32521.55893239],\n",
       "       [29426.78279322, 30890.57305775, 32525.37064476],\n",
       "       [29405.81837518, 30953.46631188, 32473.91252775],\n",
       "       [29405.81837518, 30953.46631188, 32489.15937724],\n",
       "       [29421.06522467, 30953.46631188, 32473.91252775],\n",
       "       [29421.06522467, 30968.71316136, 32473.91252775],\n",
       "       [29421.06522467, 30953.46631188, 32489.15937724],\n",
       "       [29371.51296384, 30888.66720157, 32508.21793909],\n",
       "       [29371.51296384, 30896.29062631, 32500.59451435],\n",
       "       [29425.82986513, 30885.80841729, 32526.32357286],\n",
       "       [29427.73572132, 30887.71427347, 32526.32357286],\n",
       "       [29427.73572132, 30887.71427347, 32524.41771667],\n",
       "       [29427.73572132, 30885.80841729, 32524.41771667],\n",
       "       [29428.21218536, 30886.28488133, 32526.8000369 ],\n",
       "       [29427.25925727, 30885.33195324, 32526.8000369 ],\n",
       "       [29428.21218536, 30885.33195324, 32525.84710881],\n",
       "       [29428.21218536, 30886.28488133, 32525.84710881],\n",
       "       [29428.45041739, 30885.09372122, 32526.56180488],\n",
       "       [29427.97395334, 30885.09372122, 32527.03826893],\n",
       "       [29428.45041739, 30885.57018526, 32527.03826893],\n",
       "       [29428.45041739, 30885.57018526, 32526.56180488],\n",
       "       [29428.5695334 , 30885.21283723, 32527.15738494],\n",
       "       [29428.33130137, 30884.97460521, 32527.15738494],\n",
       "       [29428.5695334 , 30884.97460521, 32526.91915292],\n",
       "       [29428.5695334 , 30885.21283723, 32526.91915292],\n",
       "       [29428.50997539, 30884.9150472 , 32527.21694294],\n",
       "       [29428.6290914 , 30885.03416321, 32527.21694294],\n",
       "       [29428.6290914 , 30884.9150472 , 32527.09782693],\n",
       "       [29428.65887041, 30884.9448262 , 32527.24672195],\n",
       "       [29428.65887041, 30884.8852682 , 32527.18716394],\n",
       "       [29428.5993124 , 30884.8852682 , 32527.24672195],\n",
       "       [29428.6439809 , 30884.8703787 , 32527.26161145],\n",
       "       [29428.67375991, 30884.8703787 , 32527.23183245],\n",
       "       [29428.67375991, 30884.9001577 , 32527.26161145],\n",
       "       [29428.68120466, 30884.87782345, 32527.2690562 ],\n",
       "       [29428.66631516, 30884.86293395, 32527.2690562 ],\n",
       "       [29428.67748228, 30884.85921157, 32527.27277857],\n",
       "       [29428.68492703, 30884.85921157, 32527.26533382],\n",
       "       [29428.68492703, 30884.86665632, 32527.27277857],\n",
       "       [29428.68306585, 30884.85735038, 32527.27463976],\n",
       "       [29428.68678822, 30884.85735038, 32527.27091739],\n",
       "       [29428.68859125, 30884.85554736, 32527.27644279],\n",
       "       [29394.38323807, 30972.52487373, 32470.10081538],\n",
       "       [29394.38323807, 30972.52487373, 32477.72424012],\n",
       "       [29394.38323807, 30964.90144899, 32477.72424012],\n",
       "       [29386.75981332, 30964.90144899, 32477.72424012],\n",
       "       [29386.75981332, 30972.52487373, 32477.72424012],\n",
       "       [29386.75981332, 30964.90144899, 32470.10081538],\n",
       "       [29386.75981332, 30972.52487373, 32470.10081538],\n",
       "       [29394.38323807, 30964.90144899, 32470.10081538],\n",
       "       [29402.00666281, 30972.52487373, 32477.72424012],\n",
       "       [29402.00666281, 30972.52487373, 32470.10081538],\n",
       "       [29409.63008755, 30972.52487373, 32470.10081538],\n",
       "       [29402.00666281, 30964.90144899, 32470.10081538],\n",
       "       [29409.63008755, 30964.90144899, 32470.10081538],\n",
       "       [29409.63008755, 30972.52487373, 32477.72424012],\n",
       "       [29369.60710765, 30886.76134538, 32502.50037054],\n",
       "       [29368.65417956, 30885.80841729, 32499.64158626],\n",
       "       [29368.17771551, 30885.33195324, 32498.21219412],\n",
       "       [29367.93948349, 30885.09372122, 32497.49749805],\n",
       "       [29367.82036748, 30884.97460521, 32497.14015001],\n",
       "       [29367.76080947, 30884.9150472 , 32496.961476  ],\n",
       "       [29367.73103047, 30884.8852682 , 32496.87213899],\n",
       "       [29367.71614097, 30884.8703787 , 32496.82747048],\n",
       "       [29367.70869622, 30884.86293395, 32496.80513623],\n",
       "       [29367.70497384, 30884.85921157, 32496.79396911],\n",
       "       [29367.70311266, 30884.85735038, 32496.78838554],\n",
       "       [29367.70218206, 30884.85641979, 32496.78559376],\n",
       "       [29367.70171676, 30884.85595449, 32496.78419787],\n",
       "       [29367.70130963, 30884.85554736, 32496.78286014]])"
      ]
     },
     "execution_count": 104,
     "metadata": {},
     "output_type": "execute_result"
    }
   ],
   "source": [
    "o.baseNodePositions"
   ]
  },
  {
   "cell_type": "code",
   "execution_count": 135,
   "id": "fc9f9f00",
   "metadata": {},
   "outputs": [
    {
     "name": "stdout",
     "output_type": "stream",
     "text": [
      "378.486422148253 478.0905043418064\n"
     ]
    }
   ],
   "source": [
    "p = np.array([[29002.849053, 30850.33039364, 32111.48087621]])\n",
    "dist2base = np.sum((o.baseNodePositions - p)**2., axis=1)\n",
    "dist2 = np.sum((allPositions - p)**2., axis=1)\n",
    "print(min(dist2)**0.5, min(dist2base)**0.5)"
   ]
  },
  {
   "cell_type": "code",
   "execution_count": 133,
   "id": "ba972aab",
   "metadata": {},
   "outputs": [
    {
     "name": "stdout",
     "output_type": "stream",
     "text": [
      "29367.701251467977 364.85219846797554 364.85219846797554\n"
     ]
    }
   ],
   "source": [
    "x = p[:,0]\n",
    "allx = allPositions[:,0]\n",
    "d = abs(allx - x)\n",
    "d2 = (allx - x)**2\n",
    "print(allx[np.argmin(d)], min(d), min(d2)**0.5)"
   ]
  },
  {
   "cell_type": "code",
   "execution_count": 123,
   "id": "6ef0626e",
   "metadata": {},
   "outputs": [
    {
     "data": {
      "text/plain": [
       "array([29367.70125147, 29367.70130963, 29367.70130963, ...,\n",
       "       29855.60043499, 29855.60043499, 29855.60043499])"
      ]
     },
     "execution_count": 123,
     "metadata": {},
     "output_type": "execute_result"
    }
   ],
   "source": [
    "allx[np.where(np.logical_and(allx > 29000, allx < 30000))]"
   ]
  },
  {
   "cell_type": "code",
   "execution_count": 142,
   "id": "972c448c",
   "metadata": {},
   "outputs": [
    {
     "name": "stdout",
     "output_type": "stream",
     "text": [
      "[35222.49145378 35031.99854916 36430.46996915] [25464.50778326 25274.01487865 26672.48629864]\n",
      "[9757.98367051 9757.98367051 9757.98367051]\n",
      "[[35222.49145378 30884.85566368 32496.78286014]\n",
      " [35222.49145378 30884.85566368 32496.78286014]\n",
      " [35222.49145378 30884.85554736 32496.78286014]\n",
      " [35222.49145378 30884.85554736 32496.78286014]]\n",
      "(array([1173, 1174, 1175, 1176], dtype=int64),)\n",
      "[]\n"
     ]
    }
   ],
   "source": [
    "maxPos = np.max(allPositions, axis=0)\n",
    "minPos = np.min(allPositions, axis=0)\n",
    "print(maxPos, minPos)\n",
    "print(maxPos - minPos)\n",
    "print(allPositions[np.where(allPositions[:,0] == maxPos[0])])\n",
    "print(np.where(allPositions[:,0] == maxPos[0]))\n",
    "print(o.baseNodePositions[np.where(o.baseNodePositions[:,0] == maxPos[0])])\n"
   ]
  },
  {
   "cell_type": "code",
   "execution_count": 34,
   "id": "1779df12",
   "metadata": {},
   "outputs": [],
   "source": [
    "import h5py\n",
    "import os\n",
    "import numpy as np"
   ]
  },
  {
   "cell_type": "code",
   "execution_count": 28,
   "id": "f7c779ae",
   "metadata": {},
   "outputs": [
    {
     "data": {
      "text/plain": [
       "29390.371753126536"
      ]
     },
     "execution_count": 28,
     "metadata": {},
     "output_type": "execute_result"
    }
   ],
   "source": [
    "fname = os.path.abspath('/Users/ageller/VISUALIZATIONS/FIREdata/m12i_res7100/snapdir_600/snapshot_600.0.hdf5')\n",
    "f = h5py.File(fname, 'r')\n",
    "f['PartType0']['Coordinates'][1][0]"
   ]
  },
  {
   "cell_type": "code",
   "execution_count": 35,
   "id": "41904e26",
   "metadata": {},
   "outputs": [],
   "source": [
    "x = np.array(f['PartType0']['Coordinates'])"
   ]
  },
  {
   "cell_type": "code",
   "execution_count": 50,
   "id": "082f4c84",
   "metadata": {},
   "outputs": [
    {
     "name": "stdout",
     "output_type": "stream",
     "text": [
      "[29390.37175313 30974.55955615 32475.00873627]\n",
      "[29367.70125147 31128.80508096 32527.27650095]\n",
      "[33574.4958079  36041.93961842 37466.55760875]\n"
     ]
    }
   ],
   "source": [
    "print(np.mean(x, axis=0))\n",
    "print(np.max(x, axis=0))"
   ]
  },
  {
   "cell_type": "code",
   "execution_count": null,
   "id": "593420a7",
   "metadata": {},
   "outputs": [],
   "source": []
  },
  {
   "cell_type": "code",
   "execution_count": null,
   "id": "0f63121b",
   "metadata": {},
   "outputs": [],
   "source": [
    "n = 0\n",
    "count = 0\n",
    "for i in o.baseNodeIndices:\n",
    "    if (o.nodes[i]['Nparticles'] > 0):\n",
    "        #print(i, o.nodes[i]['id'], o.nodes[i]['Nparticles'], len(o.nodes[i]['particles']), o.nodes[i]['x'],o.nodes[i]['xWidth'])\n",
    "        n += o.nodes[i]['Nparticles']\n",
    "        count += 1\n",
    "print(n, count)"
   ]
  },
  {
   "cell_type": "code",
   "execution_count": null,
   "id": "ee03f280",
   "metadata": {},
   "outputs": [],
   "source": [
    "import matplotlib.pyplot as plt\n",
    "import numpy as np\n",
    "\n",
    "%matplotlib notebook"
   ]
  },
  {
   "cell_type": "code",
   "execution_count": null,
   "id": "b01fba8d",
   "metadata": {},
   "outputs": [],
   "source": [
    "fig = plt.figure(figsize=(10,10))\n",
    "ax = fig.add_subplot(projection='3d')\n",
    "ax.set_xlim(-200,200)\n",
    "ax.set_ylim(-200,200)\n",
    "ax.set_zlim(-200,200)\n",
    "\n",
    "n = 0\n",
    "for i in o.baseNodeIndices:\n",
    "    if (o.nodes[i]['Nparticles'] > 0 ):\n",
    "        parts = np.array(o.nodes[i]['particles'])\n",
    "        x = parts[:,0]\n",
    "        y = parts[:,1]\n",
    "        z = parts[:,2]\n",
    "        ax.scatter(x,y, z)\n"
   ]
  },
  {
   "cell_type": "code",
   "execution_count": null,
   "id": "8f68b8fd",
   "metadata": {},
   "outputs": [],
   "source": [
    "#I'd like to check this in Firefly\n",
    "# - I will try to recreate my previous workflow with per-particle colors with the current version of python"
   ]
  }
 ],
 "metadata": {
  "kernelspec": {
   "display_name": "Python 3 (ipykernel)",
   "language": "python",
   "name": "python3"
  },
  "language_info": {
   "codemirror_mode": {
    "name": "ipython",
    "version": 3
   },
   "file_extension": ".py",
   "mimetype": "text/x-python",
   "name": "python",
   "nbconvert_exporter": "python",
   "pygments_lexer": "ipython3",
   "version": "3.9.7"
  }
 },
 "nbformat": 4,
 "nbformat_minor": 5
}
