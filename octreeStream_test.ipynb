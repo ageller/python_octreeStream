{
 "cells": [
  {
   "cell_type": "markdown",
   "id": "8bc4a279",
   "metadata": {},
   "source": [
    "# Attempting to write an octree in python\n",
    "\n",
    "I want this to work with VERY large data sets that can't be stored fully in memory.  So my procedure will be as follows:\n",
    "- need to read in line-by-line and clear memory every X MB (or maybe every X particles;can I check memory load in python?)\n",
    "- go down to nodes with containing N particles\n",
    "- need to write out tree with node sizes and centers and also ending nodes with actual particles\n",
    "\n",
    "I will work in the octreeStream.py file."
   ]
  },
  {
   "cell_type": "code",
   "execution_count": 1,
   "id": "9fcd248e",
   "metadata": {},
   "outputs": [],
   "source": [
    "%load_ext autoreload\n",
    "%autoreload 2\n",
    "\n",
    "from octreeStream import octreeStream"
   ]
  },
  {
   "cell_type": "code",
   "execution_count": 3,
   "id": "8894d5eb",
   "metadata": {},
   "outputs": [],
   "source": [
    "#I'll use a Gaia data set.  I've already compiled this one from DR2.  For production, I'd want to recompile from EDR3\n",
    "# WORK/Gaia/GaiaCompiled_RV_TAP.txt\n",
    "# for some reason this is a space-separated and not comma-separated, but here are the colummns\n",
    "# 'x', 'y', 'z', 'vx', 'vy', 'vz', 'teff_val', 'phot_g_mean_mag', 'flag'\n",
    "# I believe flag == 1 if there is no RV; for now all I care about is the x,y,z, position\n",
    "\n",
    "o = octreeStream('/Users/ageller/WORK/Gaia/GaiaCompiled_RV_TAP.txt', header = 0, delim = ' ', \n",
    "                 NNodeMax = 10000, NMemoryMax = 1e6, lineNmax=2e5)"
   ]
  },
  {
   "cell_type": "code",
   "execution_count": null,
   "id": "8d75493f",
   "metadata": {},
   "outputs": [],
   "source": [
    "o.compileOctree()"
   ]
  },
  {
   "cell_type": "code",
   "execution_count": null,
   "id": "b5ffc1c5",
   "metadata": {},
   "outputs": [],
   "source": [
    "o.checkNodeFiles()"
   ]
  },
  {
   "cell_type": "code",
   "execution_count": 4,
   "id": "5a3b4b25",
   "metadata": {},
   "outputs": [
    {
     "name": "stdout",
     "output_type": "stream",
     "text": [
      "Populated octree from files.\n",
      " -- total number of particles =  200001\n",
      " -- total number of base nodes =  85\n"
     ]
    }
   ],
   "source": [
    "o.populateAllNodesFromFiles()"
   ]
  },
  {
   "cell_type": "code",
   "execution_count": null,
   "id": "dac8c021",
   "metadata": {},
   "outputs": [],
   "source": [
    "n = 0\n",
    "count = 0\n",
    "for i in o.baseNodeIndices:\n",
    "    if (o.nodes[i]['Nparticles'] > 0):\n",
    "        #print(i, o.nodes[i]['id'], o.nodes[i]['Nparticles'], len(o.nodes[i]['particles']), o.nodes[i]['x'],o.nodes[i]['xWidth'])\n",
    "        n += o.nodes[i]['Nparticles']\n",
    "        count += 1\n",
    "print(n, count)"
   ]
  },
  {
   "cell_type": "code",
   "execution_count": null,
   "id": "42a08990",
   "metadata": {},
   "outputs": [],
   "source": [
    "import matplotlib.pyplot as plt\n",
    "import numpy as np\n",
    "\n",
    "%matplotlib notebook"
   ]
  },
  {
   "cell_type": "code",
   "execution_count": null,
   "id": "7fd86af3",
   "metadata": {},
   "outputs": [],
   "source": [
    "fig = plt.figure(figsize=(10,10))\n",
    "ax = fig.add_subplot(projection='3d')\n",
    "ax.set_xlim(-200,200)\n",
    "ax.set_ylim(-200,200)\n",
    "ax.set_zlim(-200,200)\n",
    "\n",
    "n = 0\n",
    "for i in o.baseNodeIndices:\n",
    "    if (o.nodes[i]['Nparticles'] > 0 ):\n",
    "        parts = np.array(o.nodes[i]['particles'])\n",
    "        x = parts[:,0]\n",
    "        y = parts[:,1]\n",
    "        z = parts[:,2]\n",
    "        ax.scatter(x,y, z)\n"
   ]
  },
  {
   "cell_type": "code",
   "execution_count": null,
   "id": "e6f87a1d",
   "metadata": {},
   "outputs": [],
   "source": [
    "#I'd like to plot this in Firefly!"
   ]
  }
 ],
 "metadata": {
  "kernelspec": {
   "display_name": "Python 3",
   "language": "python",
   "name": "python3"
  },
  "language_info": {
   "codemirror_mode": {
    "name": "ipython",
    "version": 3
   },
   "file_extension": ".py",
   "mimetype": "text/x-python",
   "name": "python",
   "nbconvert_exporter": "python",
   "pygments_lexer": "ipython3",
   "version": "3.8.8"
  }
 },
 "nbformat": 4,
 "nbformat_minor": 5
}
